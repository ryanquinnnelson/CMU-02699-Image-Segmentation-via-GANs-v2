{
 "cells": [
  {
   "cell_type": "code",
   "execution_count": 1,
   "id": "e250ee8b-12cc-4f4d-9158-6aab3deb37db",
   "metadata": {},
   "outputs": [],
   "source": [
    "import numpy as np\n",
    "import random"
   ]
  },
  {
   "cell_type": "code",
   "execution_count": 3,
   "id": "c9cbb99a-91bf-442f-b71f-7b6377f64328",
   "metadata": {},
   "outputs": [],
   "source": [
    "# # get indices of all nonzero positions\n",
    "# nonzero_pos = np.nonzero(m)\n",
    "# print(nonzero_pos)\n",
    "# num_nonzero = len(nonzero_pos[0])\n",
    "\n"
   ]
  },
  {
   "cell_type": "code",
   "execution_count": 4,
   "id": "fa821e77-1415-4f73-8451-5e4f7ab17a47",
   "metadata": {},
   "outputs": [],
   "source": [
    "# img_rows = m.shape[0]\n",
    "# img_cols = m.shape[1]\n",
    "\n",
    "# # select anchor example\n",
    "# # select any segment position at random\n",
    "# rand_anchor_idx = np.random.randint(num_nonzero)\n",
    "# rand_anchor_idx = 3 # temp\n",
    "# i = nonzero_pos[0][rand_anchor_idx]\n",
    "# j = nonzero_pos[1][rand_anchor_idx]\n",
    "# anchor = [i,j]\n",
    "# # print(f'i,j:{i,j}')\n",
    "\n",
    "# # select hard negative example\n",
    "# hard_negative = None\n",
    "# radius=1\n",
    "# while hard_negative is None:\n",
    "#     # find closest background pixel to anchor to be the hard negative\n",
    "#     # option 1 - check for background pixels using increasing radius approach\n",
    "#     square_length = 3 + 2 * (radius - 1)\n",
    "# #     print(f'radius:{radius}')\n",
    "# #     print(f'square_length:{square_length}')\n",
    "\n",
    "#     # get upper left corner of pixel at given radius from (i,j) even if illegal position\n",
    "#     ul_i = i - radius\n",
    "#     ul_j = j - radius\n",
    "# #     print(f'ul_i, ul_j:{ul_i, ul_j}')\n",
    "\n",
    "#     # calc all positions in radius-length square starting from that upper left position\n",
    "#     # ignore any positions that are segment pixels or illegal positions\n",
    "#     candidate_pos = [] \n",
    "#     for a in range(square_length):\n",
    "#         for b in range(square_length):\n",
    "#             if a == 0 or a == square_length-1:\n",
    "#                 pos = [ul_i+a,ul_j+b]\n",
    "#     #             print(f'pos:{pos}')\n",
    "#                 c1 = pos[0] >= 0 and pos[0] < img_rows\n",
    "#                 c2 = pos[1] >= 0 and pos[1] < img_cols\n",
    "\n",
    "#                 if c1 and c2:\n",
    "\n",
    "#                     # check if position is a segment pixel\n",
    "#                     # get all segment row positions that match pos[0]\n",
    "#                     c3 = True\n",
    "#                     matches_row_idx = np.where(nonzero_pos[0] == pos[0])[0]\n",
    "#     #                 print(matches_row_idx)\n",
    "\n",
    "#                     for each in matches_row_idx:\n",
    "#     #                     print(f'nonzero_pos[1][each]:{nonzero_pos[1][each]}')\n",
    "#                         if nonzero_pos[1][each] == pos[1]:\n",
    "#     #                         print(f'segment position:{pos}')\n",
    "#                             c3 = False\n",
    "\n",
    "\n",
    "#                     if c3:\n",
    "#                         candidate_pos.append(pos)\n",
    "#             else:\n",
    "#                 if b == 0 or b == square_length-1: \n",
    "#                     pos = [ul_i+a,ul_j+b]\n",
    "#         #             print(f'pos:{pos}')\n",
    "#                     c1 = pos[0] >= 0 and pos[0] < img_rows\n",
    "#                     c2 = pos[1] >= 0 and pos[1] < img_cols\n",
    "\n",
    "#                     if c1 and c2:\n",
    "\n",
    "#                         # check if position is a segment pixel\n",
    "#                         # get all segment row positions that match pos[0]\n",
    "#                         c3 = True\n",
    "#                         matches_row_idx = np.where(nonzero_pos[0] == pos[0])[0]\n",
    "#         #                 print(matches_row_idx)\n",
    "\n",
    "#                         for each in matches_row_idx:\n",
    "#         #                     print(f'nonzero_pos[1][each]:{nonzero_pos[1][each]}')\n",
    "#                             if nonzero_pos[1][each] == pos[1]:\n",
    "#         #                         print(f'segment position:{pos}')\n",
    "#                                 c3 = False\n",
    "\n",
    "\n",
    "#                         if c3:\n",
    "#                             candidate_pos.append(pos)\n",
    "#     if len(candidate_pos) > 0:\n",
    "#         # pick any candidate position as a hard negative because it is a closest background pixel to the anchor\n",
    "#         hard_negative = random.choice(candidate_pos)\n",
    "#     else:\n",
    "#         radius += 1\n",
    "        \n",
    "\n",
    "# # select positive example\n",
    "# # choose any segment pixel except anchor as positive\n",
    "# rand_positive_idx=np.random.randint(num_nonzero)\n",
    "# while rand_positive_idx == rand_anchor_idx:\n",
    "#     rand_positive_idx=np.random.randint(num_nonzero)\n",
    "    \n",
    "# i = nonzero_pos[0][rand_positive_idx]\n",
    "# j = nonzero_pos[1][rand_positive_idx]\n",
    "# positive = [i,j]\n",
    "\n",
    "\n",
    "# print(f'anchor:{anchor}')\n",
    "# print(f'positive:{positive}')\n",
    "# print(f'hard_negative:{hard_negative}')"
   ]
  },
  {
   "cell_type": "code",
   "execution_count": 37,
   "id": "8fc79873-c352-4843-8c03-dea73c0dfa4f",
   "metadata": {},
   "outputs": [],
   "source": [
    "def get_new_anchor(nonzero_pos, anchors):\n",
    "\n",
    "    num_nonzero = len(nonzero_pos[0])\n",
    "    \n",
    "    # throw error if there are no possible anchor positions left\n",
    "    if len(anchors) == num_nonzero:\n",
    "        raise ValueError('All possible anchor positions have been already selected.')\n",
    "    \n",
    "    # select any segment position at random\n",
    "    rand_nonzero_idx = np.random.randint(num_nonzero)\n",
    "    i = nonzero_pos[0][rand_nonzero_idx]\n",
    "    j = nonzero_pos[1][rand_nonzero_idx]\n",
    "    anchor = [i,j]\n",
    "    \n",
    "    # ensure anchor has not already been selected\n",
    "    while anchor in anchors:\n",
    "        rand_nonzero_idx = np.random.randint(num_nonzero)\n",
    "        i = nonzero_pos[0][rand_nonzero_idx]\n",
    "        j = nonzero_pos[1][rand_nonzero_idx]\n",
    "        anchor = [i,j]\n",
    "    \n",
    "    return anchor, rand_nonzero_idx"
   ]
  },
  {
   "cell_type": "code",
   "execution_count": 38,
   "id": "adb91af4-12c2-4c7a-a670-b4355fdc3f26",
   "metadata": {},
   "outputs": [],
   "source": [
    "def position_is_in_image(pos, img_rows, img_cols):\n",
    "    c1 = pos[0] >= 0 and pos[0] < img_rows\n",
    "    c2 = pos[1] >= 0 and pos[1] < img_cols\n",
    "\n",
    "    position_is_in_image = c1 and c2\n",
    "    return position_is_in_image"
   ]
  },
  {
   "cell_type": "code",
   "execution_count": 39,
   "id": "41f5541e-27e3-47d9-98f5-7b4b710f990c",
   "metadata": {},
   "outputs": [],
   "source": [
    "def position_is_background(pos, nonzero_pos):\n",
    "    \n",
    "    position_is_background = True\n",
    "    \n",
    "    # get all segment row positions that match pos[0]\n",
    "    matches_row_idx = np.where(nonzero_pos[0] == pos[0])[0] # extract array from results\n",
    "\n",
    "    # check all row position matches to see if matching column position exists\n",
    "    for each in matches_row_idx:\n",
    "        if nonzero_pos[1][each] == pos[1]:\n",
    "            position_is_background = False\n",
    "        \n",
    "    return position_is_background"
   ]
  },
  {
   "cell_type": "code",
   "execution_count": 40,
   "id": "04a0bd35-d05c-4ef8-bdef-be74da868efe",
   "metadata": {},
   "outputs": [],
   "source": [
    "def get_radius_positions(anchor, radius):\n",
    "    # get (i,j) position of upper left corner at given radius from anchor even if invalid\n",
    "    ul_i = anchor[0] - radius\n",
    "    ul_j = anchor[1] - radius\n",
    "\n",
    "    # set the length of the square formed at the current radius away from anchor \n",
    "    square_length = 3 + 2 * (radius - 1)\n",
    "\n",
    "    # calc all valid positions that are radius pixels away from the anchor\n",
    "    # ignore any positions that are segment pixels or invalid positions\n",
    "    radius_positions = [] \n",
    "    for i_offset in range(square_length):\n",
    "            if i_offset == 0 or i_offset == square_length-1:  # first row or last row\n",
    "\n",
    "                # every position in first or last row is radius pixels from anchor\n",
    "                for j_offset in range(square_length):\n",
    "                    pos = [ul_i+i_offset,ul_j+j_offset]\n",
    "                    radius_positions.append(pos)\n",
    "\n",
    "            else: # any row except first or last\n",
    "\n",
    "                # only first and last columns are radius pixels from anchor\n",
    "                for j_offset in [0,square_length-1]:\n",
    "                    pos = [ul_i+i_offset,ul_j+j_offset]\n",
    "                    radius_positions.append(pos)\n",
    "                    \n",
    "    return radius_positions"
   ]
  },
  {
   "cell_type": "code",
   "execution_count": 41,
   "id": "2f00badb-e367-40c2-9fee-8b1c1abde637",
   "metadata": {},
   "outputs": [],
   "source": [
    "def get_new_negative(nonzero_pos, anchor, img_rows, img_cols):\n",
    "    # check for background pixels using increasing radius approach\n",
    "    # closest background pixel to anchor to be the hard negative\n",
    "    \n",
    "    negative = None\n",
    "    radius=1 # start search 1 pixel away from anchor\n",
    "    \n",
    "    while negative is None:\n",
    "\n",
    "        radius_positions = get_radius_positions(anchor, radius)\n",
    "#         print(radius_positions)\n",
    "                        \n",
    "        # check all radius positions for valid candidates\n",
    "        candidates = []\n",
    "        for pos in radius_positions:\n",
    "            is_valid = position_is_in_image(pos, img_rows, img_cols)\n",
    "            if is_valid:\n",
    "                is_background = position_is_background(pos, nonzero_pos)\n",
    "                if is_background:\n",
    "                    candidates.append(pos)\n",
    "                        \n",
    "        # select candidate at random if any exist\n",
    "        if len(candidates) > 0:\n",
    "            negative = random.choice(candidates)\n",
    "        else:\n",
    "            # no candidates exist at that radius\n",
    "            # increment radius and search again\n",
    "            radius += 1\n",
    "            \n",
    "            # sanity check\n",
    "            if radius > img_rows:\n",
    "                raise ValueError('Target does not have any valid negative samples.')\n",
    "                        \n",
    "    return negative        "
   ]
  },
  {
   "cell_type": "code",
   "execution_count": 42,
   "id": "02ea78bf-dd42-4395-bc05-83e755e3f202",
   "metadata": {},
   "outputs": [],
   "source": [
    "def get_new_positive(nonzero_pos, anchor_idx):\n",
    "    num_nonzero = len(nonzero_pos[0])\n",
    "    \n",
    "    if num_nonzero < 2:\n",
    "        raise ValueError('Target does not have enough segment pixels to choose a positive sample.')\n",
    "    \n",
    "    # choose any segment pixel except anchor as positive\n",
    "    rand_positive_idx=np.random.randint(num_nonzero)\n",
    "    while rand_positive_idx == anchor_idx:\n",
    "        rand_positive_idx=np.random.randint(num_nonzero)\n",
    "\n",
    "    # convert index to an (i,j) pixel position\n",
    "    i = nonzero_pos[0][rand_positive_idx]\n",
    "    j = nonzero_pos[1][rand_positive_idx]\n",
    "    positive = [i,j]\n",
    "    return positive"
   ]
  },
  {
   "cell_type": "code",
   "execution_count": 43,
   "id": "4d656331-b317-49bd-ada7-ca263d775aba",
   "metadata": {},
   "outputs": [],
   "source": [
    "def get_triplet_indices(target, n):\n",
    "    \n",
    "    # for storing n triplets\n",
    "    anchors = []\n",
    "    positives = []\n",
    "    negatives = []\n",
    "    \n",
    "    # extract dimensions of target image\n",
    "    img_rows = target.shape[0]\n",
    "    img_cols = target.shape[1]\n",
    "    \n",
    "    # get indices of all nonzero positions (segment pixels)\n",
    "    nonzero_pos = np.nonzero(target)\n",
    "    \n",
    "    for triplet in range(n):\n",
    "        # choose as anchor a segment pixel which has not yet been chosen to be an anchor\n",
    "        curr_anchor, curr_anchor_idx = get_new_anchor(nonzero_pos, anchors)\n",
    "        \n",
    "        # calculate closest background pixel to be hard negative for this anchor\n",
    "        curr_negative = get_new_negative(nonzero_pos, curr_anchor, img_rows, img_cols)\n",
    "        \n",
    "        # choose as positive a segment pixel which is not the current anchor\n",
    "        curr_positive = get_new_positive(nonzero_pos, curr_anchor_idx)\n",
    "        \n",
    "        # save triplet\n",
    "        anchors.append(curr_anchor)\n",
    "        negatives.append(curr_negative)\n",
    "        positives.append(curr_positive)\n",
    "        \n",
    "    return anchors, negatives, positives\n",
    "    "
   ]
  },
  {
   "cell_type": "code",
   "execution_count": 63,
   "id": "cb63e12f-bc9a-40cd-b6f9-b4263bf32441",
   "metadata": {
    "tags": []
   },
   "outputs": [
    {
     "name": "stdout",
     "output_type": "stream",
     "text": [
      "(5, 5)\n"
     ]
    },
    {
     "data": {
      "text/plain": [
       "array([[0., 0., 1., 1., 1.],\n",
       "       [0., 0., 0., 1., 1.],\n",
       "       [0., 0., 0., 0., 1.],\n",
       "       [1., 0., 0., 0., 1.],\n",
       "       [1., 1., 0., 0., 1.]])"
      ]
     },
     "execution_count": 63,
     "metadata": {},
     "output_type": "execute_result"
    }
   ],
   "source": [
    "target = np.array([[0., 0., 1., 1., 1.],\n",
    "       [0., 0., 0., 1., 1.],\n",
    "       [0., 0., 0., 0., 1.],\n",
    "       [1., 0., 0., 0., 1.],\n",
    "       [1., 1., 0., 0., 1.]])\n",
    "print(target.shape)\n",
    "target"
   ]
  },
  {
   "cell_type": "code",
   "execution_count": 64,
   "id": "18d859f1-58c2-487c-abdc-6653cd3514c6",
   "metadata": {},
   "outputs": [],
   "source": [
    "# target = np.zeros((5,5))\n",
    "# print(target.shape)\n",
    "# target"
   ]
  },
  {
   "cell_type": "code",
   "execution_count": 65,
   "id": "0bd2d15c-36b8-49ca-88a7-85ea9ecabdaf",
   "metadata": {},
   "outputs": [],
   "source": [
    "# target = np.ones((5,5))\n",
    "# print(target.shape)\n",
    "# target"
   ]
  },
  {
   "cell_type": "code",
   "execution_count": 66,
   "id": "970dd081-4f93-4a00-8553-6e8c0a1438ea",
   "metadata": {},
   "outputs": [],
   "source": [
    "# target = np.zeros((5,5))\n",
    "# target[0][0]=1\n",
    "# print(target.shape)\n",
    "# target"
   ]
  },
  {
   "cell_type": "code",
   "execution_count": 73,
   "id": "b701d872-edb0-4920-8c96-4450c909743c",
   "metadata": {},
   "outputs": [
    {
     "data": {
      "text/plain": [
       "([[4, 1], [4, 4]], [[3, 1], [4, 3]], [[0, 2], [0, 4]])"
      ]
     },
     "execution_count": 73,
     "metadata": {},
     "output_type": "execute_result"
    }
   ],
   "source": [
    "n=2\n",
    "get_triplet_indices(target, n)"
   ]
  },
  {
   "cell_type": "code",
   "execution_count": null,
   "id": "354db597-317b-4607-9b8e-166290bd2471",
   "metadata": {},
   "outputs": [],
   "source": []
  }
 ],
 "metadata": {
  "kernelspec": {
   "display_name": "Python 3 (ipykernel)",
   "language": "python",
   "name": "python3"
  },
  "language_info": {
   "codemirror_mode": {
    "name": "ipython",
    "version": 3
   },
   "file_extension": ".py",
   "mimetype": "text/x-python",
   "name": "python",
   "nbconvert_exporter": "python",
   "pygments_lexer": "ipython3",
   "version": "3.8.11"
  }
 },
 "nbformat": 4,
 "nbformat_minor": 5
}
