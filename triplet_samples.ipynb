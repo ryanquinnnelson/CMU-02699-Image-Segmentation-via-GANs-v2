{
 "cells": [
  {
   "cell_type": "code",
   "execution_count": 2,
   "id": "e250ee8b-12cc-4f4d-9158-6aab3deb37db",
   "metadata": {},
   "outputs": [],
   "source": [
    "import numpy as np\n",
    "import torch\n",
    "import random"
   ]
  },
  {
   "cell_type": "code",
   "execution_count": 3,
   "id": "cb63e12f-bc9a-40cd-b6f9-b4263bf32441",
   "metadata": {
    "tags": []
   },
   "outputs": [
    {
     "name": "stdout",
     "output_type": "stream",
     "text": [
      "torch.Size([5, 5])\n"
     ]
    },
    {
     "data": {
      "text/plain": [
       "tensor([[0., 0., 1., 1., 1.],\n",
       "        [0., 0., 0., 1., 1.],\n",
       "        [0., 0., 0., 0., 1.],\n",
       "        [1., 0., 0., 0., 1.],\n",
       "        [1., 1., 0., 0., 1.]])"
      ]
     },
     "execution_count": 3,
     "metadata": {},
     "output_type": "execute_result"
    }
   ],
   "source": [
    "target = torch.tensor([[0., 0., 1., 1., 1.],\n",
    "       [0., 0., 0., 1., 1.],\n",
    "       [0., 0., 0., 0., 1.],\n",
    "       [1., 0., 0., 0., 1.],\n",
    "       [1., 1., 0., 0., 1.]])\n",
    "print(target.shape)\n",
    "target"
   ]
  },
  {
   "cell_type": "code",
   "execution_count": 32,
   "id": "d641a9d6-31e5-4274-bbef-c2d89c392039",
   "metadata": {},
   "outputs": [
    {
     "name": "stdout",
     "output_type": "stream",
     "text": [
      "tensor([[0.9648, 0.6187, 0.7527, 0.3651, 0.8474],\n",
      "        [0.3475, 0.3877, 0.8914, 0.9127, 0.9432],\n",
      "        [0.5487, 0.6524, 0.2454, 0.8663, 0.4142],\n",
      "        [0.5647, 0.6118, 0.7968, 0.0154, 0.4318],\n",
      "        [0.7454, 0.9327, 0.2163, 0.2600, 0.9836]])\n"
     ]
    },
    {
     "data": {
      "text/plain": [
       "torch.Size([5, 5])"
      ]
     },
     "execution_count": 32,
     "metadata": {},
     "output_type": "execute_result"
    }
   ],
   "source": [
    "target = torch.rand(5,5)\n",
    "print(target)\n",
    "target.shape"
   ]
  },
  {
   "cell_type": "code",
   "execution_count": 40,
   "id": "7b445729-4970-4a51-b8a5-cab09b3ebcf0",
   "metadata": {},
   "outputs": [],
   "source": [
    "o = torch.tensor([[[[0.3755, 0.0455, 0.0532, 0.8096, 0.0012],\n",
    "                        [0.8413, 0.6249, 0.7906, 0.3437, 0.7179],\n",
    "                        [0.6032, 0.0878, 0.8019, 0.3762, 0.4233],\n",
    "                        [0.8584, 0.8106, 0.0950, 0.4664, 0.9527],\n",
    "                        [0.2775, 0.6072, 0.2494, 0.4346, 0.3095]]],\n",
    "\n",
    "                      [[[0.2977, 0.4399, 0.4750, 0.8097, 0.7573],\n",
    "                        [0.1771, 0.2021, 0.4243, 0.5265, 0.2079],\n",
    "                        [0.9319, 0.9046, 0.2385, 0.4292, 0.1066],\n",
    "                        [0.5421, 0.8858, 0.3479, 0.0413, 0.2431],\n",
    "                        [0.2422, 0.2530, 0.5502, 0.7505, 0.4435]]],\n",
    "\n",
    "                      [[[0.8230, 0.9267, 0.9465, 0.9285, 0.5393],\n",
    "                        [0.3142, 0.2686, 0.0248, 0.8731, 0.8203],\n",
    "                        [0.4774, 0.1330, 0.5620, 0.5715, 0.7523],\n",
    "                        [0.9411, 0.5292, 0.0644, 0.1066, 0.1095],\n",
    "                        [0.3790, 0.8215, 0.2276, 0.6534, 0.8838]]]])"
   ]
  },
  {
   "cell_type": "code",
   "execution_count": 56,
   "id": "04bd4c5c-bb6c-42d0-ba42-2ba41af3da6e",
   "metadata": {
    "tags": []
   },
   "outputs": [
    {
     "name": "stdout",
     "output_type": "stream",
     "text": [
      "torch.Size([1, 5, 5])\n"
     ]
    },
    {
     "data": {
      "text/plain": [
       "tensor([[[0.3755, 0.0455, 0.0532, 0.8096, 0.0012],\n",
       "         [0.8413, 0.6249, 0.7906, 0.3437, 0.7179],\n",
       "         [0.6032, 0.0878, 0.8019, 0.3762, 0.4233],\n",
       "         [0.8584, 0.8106, 0.0950, 0.4664, 0.9527],\n",
       "         [0.2775, 0.6072, 0.2494, 0.4346, 0.3095]]])"
      ]
     },
     "execution_count": 56,
     "metadata": {},
     "output_type": "execute_result"
    }
   ],
   "source": [
    "output = o[0]\n",
    "print(output.shape)\n",
    "output"
   ]
  },
  {
   "cell_type": "code",
   "execution_count": 91,
   "id": "5003fa00-5f1e-4bb0-b805-1c8b15f8d7bc",
   "metadata": {},
   "outputs": [],
   "source": [
    "a = [[0,2],[3,0]]\n",
    "b = np.array(a).T\n",
    "c = np.array([[0,4],[2,3]]).T"
   ]
  },
  {
   "cell_type": "code",
   "execution_count": 102,
   "id": "84da30bc-dd89-41f6-9c7e-1b8871be5ff2",
   "metadata": {},
   "outputs": [
    {
     "name": "stdout",
     "output_type": "stream",
     "text": [
      "tensor([0.0532, 0.8584])\n",
      "tensor([0.0012, 0.3762])\n"
     ]
    }
   ],
   "source": [
    "anchor = output[0][b]\n",
    "positive = output[0][c]\n",
    "print(anchor)\n",
    "print(positive)"
   ]
  },
  {
   "cell_type": "code",
   "execution_count": 105,
   "id": "98ab82b2-2990-4a3d-86b5-614b8eff26a7",
   "metadata": {},
   "outputs": [
    {
     "data": {
      "text/plain": [
       "tensor([[0.4850]])"
      ]
     },
     "execution_count": 105,
     "metadata": {},
     "output_type": "execute_result"
    }
   ],
   "source": [
    "torch.cdist(anchor.unsqueeze(0), positive.unsqueeze(0), p=2.0)"
   ]
  },
  {
   "cell_type": "code",
   "execution_count": 104,
   "id": "412a8300-4765-4c1a-8b20-13fea579c8ff",
   "metadata": {},
   "outputs": [
    {
     "data": {
      "text/plain": [
       "tensor([0.0520, 0.4822])"
      ]
     },
     "execution_count": 104,
     "metadata": {},
     "output_type": "execute_result"
    }
   ],
   "source": [
    "anchor - positive"
   ]
  },
  {
   "cell_type": "code",
   "execution_count": null,
   "id": "218eccca-337c-4f1e-8cec-8e5eb09411e0",
   "metadata": {},
   "outputs": [],
   "source": []
  }
 ],
 "metadata": {
  "kernelspec": {
   "display_name": "Python 3 (ipykernel)",
   "language": "python",
   "name": "python3"
  },
  "language_info": {
   "codemirror_mode": {
    "name": "ipython",
    "version": 3
   },
   "file_extension": ".py",
   "mimetype": "text/x-python",
   "name": "python",
   "nbconvert_exporter": "python",
   "pygments_lexer": "ipython3",
   "version": "3.8.11"
  }
 },
 "nbformat": 4,
 "nbformat_minor": 5
}
