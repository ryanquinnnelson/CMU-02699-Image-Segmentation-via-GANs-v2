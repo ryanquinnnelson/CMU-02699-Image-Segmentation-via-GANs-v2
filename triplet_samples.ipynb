{
 "cells": [
  {
   "cell_type": "code",
   "execution_count": 88,
   "id": "e250ee8b-12cc-4f4d-9158-6aab3deb37db",
   "metadata": {},
   "outputs": [],
   "source": [
    "import numpy as np\n",
    "import torch\n",
    "import random"
   ]
  },
  {
   "cell_type": "code",
   "execution_count": 37,
   "id": "8fc79873-c352-4843-8c03-dea73c0dfa4f",
   "metadata": {},
   "outputs": [],
   "source": [
    "def get_new_anchor(nonzero_pos, anchors):\n",
    "\n",
    "    num_nonzero = len(nonzero_pos[0])\n",
    "    \n",
    "    # throw error if there are no possible anchor positions left\n",
    "    if len(anchors) == num_nonzero:\n",
    "        raise ValueError('All possible anchor positions have been already selected.')\n",
    "    \n",
    "    # select any segment position at random\n",
    "    rand_nonzero_idx = np.random.randint(num_nonzero)\n",
    "    i = nonzero_pos[0][rand_nonzero_idx]\n",
    "    j = nonzero_pos[1][rand_nonzero_idx]\n",
    "    anchor = [i,j]\n",
    "    \n",
    "    # ensure anchor has not already been selected\n",
    "    while anchor in anchors:\n",
    "        rand_nonzero_idx = np.random.randint(num_nonzero)\n",
    "        i = nonzero_pos[0][rand_nonzero_idx]\n",
    "        j = nonzero_pos[1][rand_nonzero_idx]\n",
    "        anchor = [i,j]\n",
    "    \n",
    "    return anchor, rand_nonzero_idx"
   ]
  },
  {
   "cell_type": "code",
   "execution_count": 38,
   "id": "adb91af4-12c2-4c7a-a670-b4355fdc3f26",
   "metadata": {},
   "outputs": [],
   "source": [
    "def position_is_in_image(pos, img_rows, img_cols):\n",
    "    c1 = pos[0] >= 0 and pos[0] < img_rows\n",
    "    c2 = pos[1] >= 0 and pos[1] < img_cols\n",
    "\n",
    "    position_is_in_image = c1 and c2\n",
    "    return position_is_in_image"
   ]
  },
  {
   "cell_type": "code",
   "execution_count": 39,
   "id": "41f5541e-27e3-47d9-98f5-7b4b710f990c",
   "metadata": {},
   "outputs": [],
   "source": [
    "def position_is_background(pos, nonzero_pos):\n",
    "    \n",
    "    position_is_background = True\n",
    "    \n",
    "    # get all segment row positions that match pos[0]\n",
    "    matches_row_idx = np.where(nonzero_pos[0] == pos[0])[0] # extract array from results\n",
    "\n",
    "    # check all row position matches to see if matching column position exists\n",
    "    for each in matches_row_idx:\n",
    "        if nonzero_pos[1][each] == pos[1]:\n",
    "            position_is_background = False\n",
    "        \n",
    "    return position_is_background"
   ]
  },
  {
   "cell_type": "code",
   "execution_count": 40,
   "id": "04a0bd35-d05c-4ef8-bdef-be74da868efe",
   "metadata": {},
   "outputs": [],
   "source": [
    "def get_radius_positions(anchor, radius):\n",
    "    # get (i,j) position of upper left corner at given radius from anchor even if invalid\n",
    "    ul_i = anchor[0] - radius\n",
    "    ul_j = anchor[1] - radius\n",
    "\n",
    "    # set the length of the square formed at the current radius away from anchor \n",
    "    square_length = 3 + 2 * (radius - 1)\n",
    "\n",
    "    # calc all valid positions that are radius pixels away from the anchor\n",
    "    # ignore any positions that are segment pixels or invalid positions\n",
    "    radius_positions = [] \n",
    "    for i_offset in range(square_length):\n",
    "            if i_offset == 0 or i_offset == square_length-1:  # first row or last row\n",
    "\n",
    "                # every position in first or last row is radius pixels from anchor\n",
    "                for j_offset in range(square_length):\n",
    "                    pos = [ul_i+i_offset,ul_j+j_offset]\n",
    "                    radius_positions.append(pos)\n",
    "\n",
    "            else: # any row except first or last\n",
    "\n",
    "                # only first and last columns are radius pixels from anchor\n",
    "                for j_offset in [0,square_length-1]:\n",
    "                    pos = [ul_i+i_offset,ul_j+j_offset]\n",
    "                    radius_positions.append(pos)\n",
    "                    \n",
    "    return radius_positions"
   ]
  },
  {
   "cell_type": "code",
   "execution_count": 41,
   "id": "2f00badb-e367-40c2-9fee-8b1c1abde637",
   "metadata": {},
   "outputs": [],
   "source": [
    "def get_new_negative(nonzero_pos, anchor, img_rows, img_cols):\n",
    "    # check for background pixels using increasing radius approach\n",
    "    # closest background pixel to anchor to be the hard negative\n",
    "    \n",
    "    negative = None\n",
    "    radius=1 # start search 1 pixel away from anchor\n",
    "    \n",
    "    while negative is None:\n",
    "\n",
    "        radius_positions = get_radius_positions(anchor, radius)\n",
    "#         print(radius_positions)\n",
    "                        \n",
    "        # check all radius positions for valid candidates\n",
    "        candidates = []\n",
    "        for pos in radius_positions:\n",
    "            is_valid = position_is_in_image(pos, img_rows, img_cols)\n",
    "            if is_valid:\n",
    "                is_background = position_is_background(pos, nonzero_pos)\n",
    "                if is_background:\n",
    "                    candidates.append(pos)\n",
    "                        \n",
    "        # select candidate at random if any exist\n",
    "        if len(candidates) > 0:\n",
    "            negative = random.choice(candidates)\n",
    "        else:\n",
    "            # no candidates exist at that radius\n",
    "            # increment radius and search again\n",
    "            radius += 1\n",
    "            \n",
    "            # sanity check\n",
    "            if radius > img_rows:\n",
    "                raise ValueError('Target does not have any valid negative samples.')\n",
    "                        \n",
    "    return negative        "
   ]
  },
  {
   "cell_type": "code",
   "execution_count": 42,
   "id": "02ea78bf-dd42-4395-bc05-83e755e3f202",
   "metadata": {},
   "outputs": [],
   "source": [
    "def get_new_positive(nonzero_pos, anchor_idx):\n",
    "    num_nonzero = len(nonzero_pos[0])\n",
    "    \n",
    "    if num_nonzero < 2:\n",
    "        raise ValueError('Target does not have enough segment pixels to choose a positive sample.')\n",
    "    \n",
    "    # choose any segment pixel except anchor as positive\n",
    "    rand_positive_idx=np.random.randint(num_nonzero)\n",
    "    while rand_positive_idx == anchor_idx:\n",
    "        rand_positive_idx=np.random.randint(num_nonzero)\n",
    "\n",
    "    # convert index to an (i,j) pixel position\n",
    "    i = nonzero_pos[0][rand_positive_idx]\n",
    "    j = nonzero_pos[1][rand_positive_idx]\n",
    "    positive = [i,j]\n",
    "    return positive"
   ]
  },
  {
   "cell_type": "code",
   "execution_count": 82,
   "id": "4d656331-b317-49bd-ada7-ca263d775aba",
   "metadata": {},
   "outputs": [],
   "source": [
    "def get_triplet_indices(target, n):\n",
    "    \n",
    "    # for storing n triplets\n",
    "    anchors = []\n",
    "    positives = []\n",
    "    negatives = []\n",
    "    \n",
    "    # extract dimensions of target image\n",
    "    img_rows = target.shape[0]\n",
    "    img_cols = target.shape[1]\n",
    "    \n",
    "    # get indices of all nonzero positions (segment pixels)\n",
    "    nonzero_pos = np.nonzero(target.numpy())\n",
    "    \n",
    "    for i in range(n):\n",
    "        # choose as anchor a segment pixel which has not yet been chosen to be an anchor\n",
    "        curr_anchor, curr_anchor_idx = get_new_anchor(nonzero_pos, anchors)\n",
    "        \n",
    "        # calculate closest background pixel to be hard negative for this anchor\n",
    "        curr_negative = get_new_negative(nonzero_pos, curr_anchor, img_rows, img_cols)\n",
    "        \n",
    "        # choose as positive a segment pixel which is not the current anchor\n",
    "        curr_positive = get_new_positive(nonzero_pos, curr_anchor_idx)\n",
    "        \n",
    "        # save triplet\n",
    "        anchors.append(curr_anchor)\n",
    "        negatives.append(curr_negative)\n",
    "        positives.append(curr_positive)\n",
    "        \n",
    "    return np.array(anchors), np.array(negatives), np.array(positives)\n",
    "    "
   ]
  },
  {
   "cell_type": "code",
   "execution_count": 186,
   "id": "cb63e12f-bc9a-40cd-b6f9-b4263bf32441",
   "metadata": {
    "tags": []
   },
   "outputs": [
    {
     "name": "stdout",
     "output_type": "stream",
     "text": [
      "torch.Size([5, 5])\n"
     ]
    },
    {
     "data": {
      "text/plain": [
       "tensor([[0., 0., 1., 1., 1.],\n",
       "        [0., 0., 0., 1., 1.],\n",
       "        [0., 0., 0., 0., 1.],\n",
       "        [1., 0., 0., 0., 1.],\n",
       "        [1., 1., 0., 0., 1.]])"
      ]
     },
     "execution_count": 186,
     "metadata": {},
     "output_type": "execute_result"
    }
   ],
   "source": [
    "target = torch.tensor([[0., 0., 1., 1., 1.],\n",
    "       [0., 0., 0., 1., 1.],\n",
    "       [0., 0., 0., 0., 1.],\n",
    "       [1., 0., 0., 0., 1.],\n",
    "       [1., 1., 0., 0., 1.]])\n",
    "print(target.shape)\n",
    "target"
   ]
  },
  {
   "cell_type": "code",
   "execution_count": 84,
   "id": "18d859f1-58c2-487c-abdc-6653cd3514c6",
   "metadata": {},
   "outputs": [],
   "source": [
    "# target = np.zeros((5,5))\n",
    "# print(target.shape)\n",
    "# target"
   ]
  },
  {
   "cell_type": "code",
   "execution_count": 85,
   "id": "0bd2d15c-36b8-49ca-88a7-85ea9ecabdaf",
   "metadata": {},
   "outputs": [],
   "source": [
    "# target = np.ones((5,5))\n",
    "# print(target.shape)\n",
    "# target"
   ]
  },
  {
   "cell_type": "code",
   "execution_count": 86,
   "id": "970dd081-4f93-4a00-8553-6e8c0a1438ea",
   "metadata": {},
   "outputs": [],
   "source": [
    "# target = np.zeros((5,5))\n",
    "# target[0][0]=1\n",
    "# print(target.shape)\n",
    "# target"
   ]
  },
  {
   "cell_type": "code",
   "execution_count": 195,
   "id": "b701d872-edb0-4920-8c96-4450c909743c",
   "metadata": {},
   "outputs": [
    {
     "name": "stderr",
     "output_type": "stream",
     "text": [
      "/var/folders/5d/td2lpmcj3vq5wsprrdr42r9w0000gn/T/ipykernel_43943/516819316.py:2: UserWarning: To copy construct from a tensor, it is recommended to use sourceTensor.clone().detach() or sourceTensor.clone().detach().requires_grad_(True), rather than torch.tensor(sourceTensor).\n",
      "  target = torch.tensor(target)\n"
     ]
    },
    {
     "data": {
      "text/plain": [
       "(array([[4, 4],\n",
       "        [3, 0]]),\n",
       " array([[3, 3],\n",
       "        [2, 1]]),\n",
       " array([[1, 4],\n",
       "        [0, 3]]))"
      ]
     },
     "execution_count": 195,
     "metadata": {},
     "output_type": "execute_result"
    }
   ],
   "source": [
    "n=2\n",
    "target = torch.tensor(target)\n",
    "triplet_indices = get_triplet_indices(target, n)\n",
    "triplet_indices"
   ]
  },
  {
   "cell_type": "code",
   "execution_count": 235,
   "id": "9b3164f3-6886-4114-ae93-d5500797c539",
   "metadata": {},
   "outputs": [
    {
     "data": {
      "text/plain": [
       "tensor([[[0.6375, 0.5182, 0.4396, 0.0555, 0.0057],\n",
       "         [0.5666, 0.8391, 0.4668, 0.0356, 0.8924],\n",
       "         [0.3725, 0.6685, 0.8238, 0.8782, 0.9070],\n",
       "         [0.2593, 0.5689, 0.4267, 0.0236, 0.8909],\n",
       "         [0.9445, 0.1930, 0.5347, 0.1236, 0.3778]],\n",
       "\n",
       "        [[0.4523, 0.5304, 0.7748, 0.9978, 0.2531],\n",
       "         [0.9391, 0.7552, 0.1014, 0.0545, 0.8908],\n",
       "         [0.0469, 0.3538, 0.1531, 0.5613, 0.4489],\n",
       "         [0.0234, 0.8388, 0.2468, 0.6098, 0.6700],\n",
       "         [0.7683, 0.1252, 0.7088, 0.4645, 0.6962]]])"
      ]
     },
     "execution_count": 235,
     "metadata": {},
     "output_type": "execute_result"
    }
   ],
   "source": [
    "output = torch.rand((2,5,5))\n",
    "output"
   ]
  },
  {
   "cell_type": "code",
   "execution_count": 252,
   "id": "354db597-317b-4607-9b8e-166290bd2471",
   "metadata": {},
   "outputs": [],
   "source": [
    "def get_output_triplets(output, triplet_indices):\n",
    "#     print(output.shape)\n",
    "    \n",
    "    # unpack\n",
    "    anchors, negatives, positives = triplet_indices\n",
    "    \n",
    "    output_anchors = []\n",
    "    output_negatives = []\n",
    "    output_positives = []\n",
    "    \n",
    "    for j,k in anchors:\n",
    "        output_anchor = output[:,j,k]\n",
    "        output_anchors.append(output_anchor)\n",
    "        \n",
    "    for j,k in negatives:\n",
    "        output_negative = output[:,j,k]\n",
    "        output_negatives.append(output_negative)\n",
    "        \n",
    "    for j,k in positives:\n",
    "        output_positive = output[:,j,k]\n",
    "        output_positives.append(output_positive)\n",
    "\n",
    "    # convert lists to tensors\n",
    "    tensor_anchors = torch.stack(output_anchors).T\n",
    "    tensor_positives = torch.stack(output_negatives).T\n",
    "    tensor_negatives = torch.stack(output_positives).T\n",
    "\n",
    "    return tensor_anchors, tensor_positives, tensor_negatives"
   ]
  },
  {
   "cell_type": "code",
   "execution_count": 253,
   "id": "c2ffc5e4-6596-4a18-8ae8-ab54e11d678c",
   "metadata": {},
   "outputs": [
    {
     "data": {
      "text/plain": [
       "(tensor([[0.3778, 0.2593],\n",
       "         [0.6962, 0.0234]]),\n",
       " tensor([[0.0236, 0.6685],\n",
       "         [0.6098, 0.3538]]),\n",
       " tensor([[0.8924, 0.0555],\n",
       "         [0.8908, 0.9978]]))"
      ]
     },
     "execution_count": 253,
     "metadata": {},
     "output_type": "execute_result"
    }
   ],
   "source": [
    "tensor_triplets = get_output_triplets(output, triplet_indices)\n",
    "tensor_triplets"
   ]
  },
  {
   "cell_type": "code",
   "execution_count": 289,
   "id": "e8dd8f05-8966-4f39-8b5a-a55255404f48",
   "metadata": {},
   "outputs": [],
   "source": [
    "def triplet_loss(tensor_triplets, margin=0.2):\n",
    "    \n",
    "    # unpack\n",
    "    tensor_anchors,tensor_negatives, tensor_positives = tensor_triplets\n",
    "    \n",
    "    diff_anchor_positives = tensor_anchors - tensor_positives\n",
    "    norm_anchor_positives = torch.linalg.norm(diff_anchor_positives)\n",
    "#     print(norm_anchor_positives)\n",
    "    \n",
    "    diff_anchor_negatives = tensor_anchors - tensor_negatives\n",
    "    norm_anchor_negatives = torch.linalg.norm(diff_anchor_negatives)\n",
    "#     print(norm_anchor_negatives)\n",
    "    \n",
    "    option1 = norm_anchor_positives - norm_anchor_negatives + margin\n",
    "    option2 = 0.0\n",
    "#     print(option1)\n",
    "    \n",
    "    loss = max(option1, option2)\n",
    "    return float(loss)"
   ]
  },
  {
   "cell_type": "code",
   "execution_count": 290,
   "id": "c72278cd-d06c-407d-b73a-28e88eca003d",
   "metadata": {},
   "outputs": [
    {
     "data": {
      "text/plain": [
       "0.697445273399353"
      ]
     },
     "execution_count": 290,
     "metadata": {},
     "output_type": "execute_result"
    }
   ],
   "source": [
    "triplet_loss(tensor_triplets)"
   ]
  },
  {
   "cell_type": "code",
   "execution_count": 291,
   "id": "edb2fc41-3281-4efa-b0a7-6b9cfc547e59",
   "metadata": {},
   "outputs": [
    {
     "name": "stdout",
     "output_type": "stream",
     "text": [
      "torch.Size([2, 5, 5])\n"
     ]
    },
    {
     "data": {
      "text/plain": [
       "tensor([[[0., 0., 1., 1., 1.],\n",
       "         [0., 0., 0., 1., 1.],\n",
       "         [0., 0., 0., 0., 1.],\n",
       "         [1., 0., 0., 0., 1.],\n",
       "         [1., 1., 0., 0., 1.]],\n",
       "\n",
       "        [[0., 0., 1., 1., 1.],\n",
       "         [0., 0., 0., 1., 1.],\n",
       "         [0., 0., 0., 0., 1.],\n",
       "         [1., 0., 0., 0., 1.],\n",
       "         [1., 1., 0., 0., 1.]]])"
      ]
     },
     "execution_count": 291,
     "metadata": {},
     "output_type": "execute_result"
    }
   ],
   "source": [
    "targets = torch.stack([target,target])\n",
    "print(targets.shape)\n",
    "targets"
   ]
  },
  {
   "cell_type": "code",
   "execution_count": 309,
   "id": "5f8d974d-5fcd-4084-8c76-50b0b7511f49",
   "metadata": {},
   "outputs": [],
   "source": [
    "def loss(output, targets, n=1, margin=0.5):\n",
    "    batch_loss = 0.0\n",
    "    \n",
    "    # for each output in the mini-batch, calculate triplet_loss\n",
    "    for i in range(len(output)):\n",
    "        target_i = targets[i]\n",
    "        output_i = output[i]\n",
    "#         print(output_i.shape)\n",
    "        if len(output_i.shape) < 3:\n",
    "            # output tensor must have at least 3 dimensions for function to work\n",
    "            output_i = torch.unsqueeze(output_i, 0)\n",
    "#         print(output_i.shape)\n",
    "        \n",
    "        \n",
    "        \n",
    "        # pixel indices\n",
    "        triplet_indices_i = get_triplet_indices(target_i, n)\n",
    "#         print(triplet_indices_i)\n",
    "        \n",
    "        # output pixels\n",
    "        tensor_triplets_i = get_output_triplets(output_i, triplet_indices_i)\n",
    "#         print(tensor_triplets_i)\n",
    "        \n",
    "        # calculate loss\n",
    "        loss_i = triplet_loss(tensor_triplets_i, margin)\n",
    "        batch_loss += loss_i\n",
    "        \n",
    "    return batch_loss"
   ]
  },
  {
   "cell_type": "code",
   "execution_count": 310,
   "id": "633cd9ef-da98-4b42-8008-0077c5f8b25b",
   "metadata": {
    "tags": []
   },
   "outputs": [
    {
     "data": {
      "text/plain": [
       "0.7193681001663208"
      ]
     },
     "execution_count": 310,
     "metadata": {},
     "output_type": "execute_result"
    }
   ],
   "source": [
    "loss(output, targets)"
   ]
  },
  {
   "cell_type": "code",
   "execution_count": null,
   "id": "85964ca9-477d-4ff1-a43b-fd75361a6bd5",
   "metadata": {},
   "outputs": [],
   "source": []
  }
 ],
 "metadata": {
  "kernelspec": {
   "display_name": "Python 3 (ipykernel)",
   "language": "python",
   "name": "python3"
  },
  "language_info": {
   "codemirror_mode": {
    "name": "ipython",
    "version": 3
   },
   "file_extension": ".py",
   "mimetype": "text/x-python",
   "name": "python",
   "nbconvert_exporter": "python",
   "pygments_lexer": "ipython3",
   "version": "3.8.11"
  }
 },
 "nbformat": 4,
 "nbformat_minor": 5
}
