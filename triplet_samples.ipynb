{
 "cells": [
  {
   "cell_type": "code",
   "execution_count": 1,
   "id": "e250ee8b-12cc-4f4d-9158-6aab3deb37db",
   "metadata": {},
   "outputs": [],
   "source": [
    "import numpy as np\n",
    "import random"
   ]
  },
  {
   "cell_type": "code",
   "execution_count": 2,
   "id": "61b60684-c957-44cd-bc8e-0d426b8caf40",
   "metadata": {},
   "outputs": [
    {
     "name": "stdout",
     "output_type": "stream",
     "text": [
      "(5, 5)\n"
     ]
    },
    {
     "data": {
      "text/plain": [
       "array([[0., 0., 1., 1., 1.],\n",
       "       [0., 0., 0., 1., 1.],\n",
       "       [0., 0., 0., 0., 1.],\n",
       "       [1., 0., 0., 0., 1.],\n",
       "       [1., 1., 0., 0., 1.]])"
      ]
     },
     "execution_count": 2,
     "metadata": {},
     "output_type": "execute_result"
    }
   ],
   "source": [
    "m = np.array([[0., 0., 1., 1., 1.],\n",
    "       [0., 0., 0., 1., 1.],\n",
    "       [0., 0., 0., 0., 1.],\n",
    "       [1., 0., 0., 0., 1.],\n",
    "       [1., 1., 0., 0., 1.]])\n",
    "print(m.shape)\n",
    "m"
   ]
  },
  {
   "cell_type": "code",
   "execution_count": 3,
   "id": "c9cbb99a-91bf-442f-b71f-7b6377f64328",
   "metadata": {},
   "outputs": [
    {
     "name": "stdout",
     "output_type": "stream",
     "text": [
      "(array([0, 0, 0, 1, 1, 2, 3, 3, 4, 4, 4]), array([2, 3, 4, 3, 4, 4, 0, 4, 0, 1, 4]))\n"
     ]
    }
   ],
   "source": [
    "# get indices of all nonzero positions\n",
    "nonzero_pos = np.nonzero(m)\n",
    "print(nonzero_pos)\n",
    "num_nonzero = len(nonzero_pos[0])\n",
    "\n"
   ]
  },
  {
   "cell_type": "code",
   "execution_count": 5,
   "id": "fa821e77-1415-4f73-8451-5e4f7ab17a47",
   "metadata": {},
   "outputs": [
    {
     "name": "stdout",
     "output_type": "stream",
     "text": [
      "anchor:[1, 3]\n",
      "positive:[0, 4]\n",
      "hard_negative:[2, 2]\n"
     ]
    }
   ],
   "source": [
    "img_rows = m.shape[0]\n",
    "img_cols = m.shape[1]\n",
    "\n",
    "# select anchor example\n",
    "# select any segment position at random\n",
    "rand_anchor_idx = np.random.randint(num_nonzero)\n",
    "rand_anchor_idx = 3 # temp\n",
    "i = nonzero_pos[0][rand_anchor_idx]\n",
    "j = nonzero_pos[1][rand_anchor_idx]\n",
    "anchor = [i,j]\n",
    "# print(f'i,j:{i,j}')\n",
    "\n",
    "# select hard negative example\n",
    "hard_negative = None\n",
    "radius=1\n",
    "while hard_negative is None:\n",
    "    # find closest background pixel to anchor to be the hard negative\n",
    "    # option 1 - check for background pixels using increasing radius approach\n",
    "    square_length = 3 + 2 * (radius - 1)\n",
    "#     print(f'radius:{radius}')\n",
    "#     print(f'square_length:{square_length}')\n",
    "\n",
    "    # get upper left corner of pixel at given radius from (i,j) even if illegal position\n",
    "    ul_i = i - radius\n",
    "    ul_j = j - radius\n",
    "#     print(f'ul_i, ul_j:{ul_i, ul_j}')\n",
    "\n",
    "    # calc all positions in radius-length square starting from that upper left position\n",
    "    # ignore any positions that are segment pixels or illegal positions\n",
    "    candidate_pos = [] \n",
    "    for a in range(square_length):\n",
    "        for b in range(square_length):\n",
    "            if a == 0 or a == square_length-1:\n",
    "                pos = [ul_i+a,ul_j+b]\n",
    "    #             print(f'pos:{pos}')\n",
    "                c1 = pos[0] >= 0 and pos[0] < img_rows\n",
    "                c2 = pos[1] >= 0 and pos[1] < img_cols\n",
    "\n",
    "                if c1 and c2:\n",
    "\n",
    "                    # check if position is a segment pixel\n",
    "                    # get all segment row positions that match pos[0]\n",
    "                    c3 = True\n",
    "                    matches_row_idx = np.where(nonzero_pos[0] == pos[0])[0]\n",
    "    #                 print(matches_row_idx)\n",
    "\n",
    "                    for each in matches_row_idx:\n",
    "    #                     print(f'nonzero_pos[1][each]:{nonzero_pos[1][each]}')\n",
    "                        if nonzero_pos[1][each] == pos[1]:\n",
    "    #                         print(f'segment position:{pos}')\n",
    "                            c3 = False\n",
    "\n",
    "\n",
    "                    if c3:\n",
    "                        candidate_pos.append(pos)\n",
    "            else:\n",
    "                if b == 0 or b == square_length-1: \n",
    "                    pos = [ul_i+a,ul_j+b]\n",
    "        #             print(f'pos:{pos}')\n",
    "                    c1 = pos[0] >= 0 and pos[0] < img_rows\n",
    "                    c2 = pos[1] >= 0 and pos[1] < img_cols\n",
    "\n",
    "                    if c1 and c2:\n",
    "\n",
    "                        # check if position is a segment pixel\n",
    "                        # get all segment row positions that match pos[0]\n",
    "                        c3 = True\n",
    "                        matches_row_idx = np.where(nonzero_pos[0] == pos[0])[0]\n",
    "        #                 print(matches_row_idx)\n",
    "\n",
    "                        for each in matches_row_idx:\n",
    "        #                     print(f'nonzero_pos[1][each]:{nonzero_pos[1][each]}')\n",
    "                            if nonzero_pos[1][each] == pos[1]:\n",
    "        #                         print(f'segment position:{pos}')\n",
    "                                c3 = False\n",
    "\n",
    "\n",
    "                        if c3:\n",
    "                            candidate_pos.append(pos)\n",
    "    if len(candidate_pos) > 0:\n",
    "        # pick any candidate position as a hard negative because it is a closest background pixel to the anchor\n",
    "        hard_negative = random.choice(candidate_pos)\n",
    "    else:\n",
    "        radius += 1\n",
    "        \n",
    "\n",
    "# select positive example\n",
    "# choose any segment pixel except anchor as positive\n",
    "rand_positive_idx=np.random.randint(num_nonzero)\n",
    "while rand_positive_idx == rand_anchor_idx:\n",
    "    rand_positive_idx=np.random.randint(num_nonzero)\n",
    "    \n",
    "i = nonzero_pos[0][rand_positive_idx]\n",
    "j = nonzero_pos[1][rand_positive_idx]\n",
    "positive = [i,j]\n",
    "\n",
    "\n",
    "print(f'anchor:{anchor}')\n",
    "print(f'positive:{positive}')\n",
    "print(f'hard_negative:{hard_negative}')"
   ]
  },
  {
   "cell_type": "code",
   "execution_count": null,
   "id": "8fc79873-c352-4843-8c03-dea73c0dfa4f",
   "metadata": {},
   "outputs": [],
   "source": []
  },
  {
   "cell_type": "code",
   "execution_count": null,
   "id": "4d656331-b317-49bd-ada7-ca263d775aba",
   "metadata": {},
   "outputs": [],
   "source": []
  }
 ],
 "metadata": {
  "kernelspec": {
   "display_name": "Python 3 (ipykernel)",
   "language": "python",
   "name": "python3"
  },
  "language_info": {
   "codemirror_mode": {
    "name": "ipython",
    "version": 3
   },
   "file_extension": ".py",
   "mimetype": "text/x-python",
   "name": "python",
   "nbconvert_exporter": "python",
   "pygments_lexer": "ipython3",
   "version": "3.8.11"
  }
 },
 "nbformat": 4,
 "nbformat_minor": 5
}
