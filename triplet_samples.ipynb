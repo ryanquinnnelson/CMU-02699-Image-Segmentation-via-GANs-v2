{
 "cells": [
  {
   "cell_type": "code",
   "execution_count": 1,
   "id": "e250ee8b-12cc-4f4d-9158-6aab3deb37db",
   "metadata": {},
   "outputs": [],
   "source": [
    "import numpy as np\n",
    "import torch\n",
    "import random"
   ]
  },
  {
   "cell_type": "code",
   "execution_count": 2,
   "id": "8fc79873-c352-4843-8c03-dea73c0dfa4f",
   "metadata": {},
   "outputs": [],
   "source": []
  },
  {
   "cell_type": "code",
   "execution_count": 3,
   "id": "adb91af4-12c2-4c7a-a670-b4355fdc3f26",
   "metadata": {},
   "outputs": [],
   "source": []
  },
  {
   "cell_type": "code",
   "execution_count": 4,
   "id": "41f5541e-27e3-47d9-98f5-7b4b710f990c",
   "metadata": {},
   "outputs": [],
   "source": []
  },
  {
   "cell_type": "code",
   "execution_count": 5,
   "id": "04a0bd35-d05c-4ef8-bdef-be74da868efe",
   "metadata": {},
   "outputs": [],
   "source": []
  },
  {
   "cell_type": "code",
   "execution_count": 6,
   "id": "2f00badb-e367-40c2-9fee-8b1c1abde637",
   "metadata": {},
   "outputs": [],
   "source": []
  },
  {
   "cell_type": "code",
   "execution_count": 7,
   "id": "02ea78bf-dd42-4395-bc05-83e755e3f202",
   "metadata": {},
   "outputs": [],
   "source": []
  },
  {
   "cell_type": "code",
   "execution_count": 8,
   "id": "4d656331-b317-49bd-ada7-ca263d775aba",
   "metadata": {},
   "outputs": [],
   "source": []
  },
  {
   "cell_type": "code",
   "execution_count": 10,
   "id": "cb63e12f-bc9a-40cd-b6f9-b4263bf32441",
   "metadata": {
    "tags": []
   },
   "outputs": [
    {
     "name": "stdout",
     "output_type": "stream",
     "text": [
      "torch.Size([5, 5])\n"
     ]
    },
    {
     "data": {
      "text/plain": [
       "tensor([[0., 0., 1., 1., 1.],\n",
       "        [0., 0., 0., 1., 1.],\n",
       "        [0., 0., 0., 0., 1.],\n",
       "        [1., 0., 0., 0., 1.],\n",
       "        [1., 1., 0., 0., 1.]])"
      ]
     },
     "execution_count": 10,
     "metadata": {},
     "output_type": "execute_result"
    }
   ],
   "source": [
    "target = torch.tensor([[0., 0., 1., 1., 1.],\n",
    "       [0., 0., 0., 1., 1.],\n",
    "       [0., 0., 0., 0., 1.],\n",
    "       [1., 0., 0., 0., 1.],\n",
    "       [1., 1., 0., 0., 1.]])\n",
    "print(target.shape)\n",
    "target"
   ]
  },
  {
   "cell_type": "code",
   "execution_count": 15,
   "id": "c9b5ec5e-268d-4f2c-a25d-d9bf298783ac",
   "metadata": {},
   "outputs": [],
   "source": [
    "# np.nonzero(target.numpy())"
   ]
  },
  {
   "cell_type": "code",
   "execution_count": 16,
   "id": "18d859f1-58c2-487c-abdc-6653cd3514c6",
   "metadata": {},
   "outputs": [],
   "source": [
    "# target = torch.zeros((5,5))\n",
    "# print(target.shape)\n",
    "# target"
   ]
  },
  {
   "cell_type": "code",
   "execution_count": 17,
   "id": "0bd2d15c-36b8-49ca-88a7-85ea9ecabdaf",
   "metadata": {},
   "outputs": [],
   "source": [
    "# target = torch.ones((5,5))\n",
    "# print(target.shape)\n",
    "# target"
   ]
  },
  {
   "cell_type": "code",
   "execution_count": 86,
   "id": "970dd081-4f93-4a00-8553-6e8c0a1438ea",
   "metadata": {},
   "outputs": [],
   "source": [
    "# target = np.zeros((5,5))\n",
    "# target[0][0]=1\n",
    "# print(target.shape)\n",
    "# target"
   ]
  },
  {
   "cell_type": "code",
   "execution_count": 18,
   "id": "24e0ba90-5ec1-4704-9219-6ab322cdb031",
   "metadata": {},
   "outputs": [
    {
     "name": "stdout",
     "output_type": "stream",
     "text": [
      "1\n",
      "4\n"
     ]
    }
   ],
   "source": [
    "a = [[1,2],[4,5]]\n",
    "for i,j in a:\n",
    "    print(i)"
   ]
  },
  {
   "cell_type": "code",
   "execution_count": 195,
   "id": "b701d872-edb0-4920-8c96-4450c909743c",
   "metadata": {},
   "outputs": [
    {
     "name": "stderr",
     "output_type": "stream",
     "text": [
      "/var/folders/5d/td2lpmcj3vq5wsprrdr42r9w0000gn/T/ipykernel_43943/516819316.py:2: UserWarning: To copy construct from a tensor, it is recommended to use sourceTensor.clone().detach() or sourceTensor.clone().detach().requires_grad_(True), rather than torch.tensor(sourceTensor).\n",
      "  target = torch.tensor(target)\n"
     ]
    },
    {
     "data": {
      "text/plain": [
       "(array([[4, 4],\n",
       "        [3, 0]]),\n",
       " array([[3, 3],\n",
       "        [2, 1]]),\n",
       " array([[1, 4],\n",
       "        [0, 3]]))"
      ]
     },
     "execution_count": 195,
     "metadata": {},
     "output_type": "execute_result"
    }
   ],
   "source": [
    "n=2\n",
    "target = torch.tensor(target)\n",
    "triplet_indices = get_triplet_indices(target, n)\n",
    "triplet_indices"
   ]
  },
  {
   "cell_type": "code",
   "execution_count": 22,
   "id": "9b3164f3-6886-4114-ae93-d5500797c539",
   "metadata": {},
   "outputs": [
    {
     "data": {
      "text/plain": [
       "tensor([[[[0.3243, 0.8990, 0.0921, 0.2546, 0.9084],\n",
       "          [0.5298, 0.9023, 0.2922, 0.7029, 0.0408],\n",
       "          [0.3300, 0.9085, 0.5602, 0.9118, 0.9161],\n",
       "          [0.3091, 0.5567, 0.9685, 0.8120, 0.1874],\n",
       "          [0.3743, 0.9884, 0.8920, 0.4025, 0.9539]],\n",
       "\n",
       "         [[0.3390, 0.1962, 0.3514, 0.1017, 0.7659],\n",
       "          [0.8812, 0.9223, 0.7047, 0.0409, 0.2640],\n",
       "          [0.6041, 0.9155, 0.6221, 0.8875, 0.5795],\n",
       "          [0.4273, 0.3435, 0.9991, 0.3975, 0.6576],\n",
       "          [0.3570, 0.8038, 0.5411, 0.5832, 0.6003]]],\n",
       "\n",
       "\n",
       "        [[[0.3664, 0.0723, 0.8448, 0.4502, 0.1831],\n",
       "          [0.7847, 0.5026, 0.4738, 0.9825, 0.0244],\n",
       "          [0.8613, 0.9222, 0.6209, 0.7973, 0.3739],\n",
       "          [0.0735, 0.1107, 0.6716, 0.2892, 0.0741],\n",
       "          [0.3668, 0.6573, 0.3271, 0.8849, 0.0231]],\n",
       "\n",
       "         [[0.5387, 0.6941, 0.0724, 0.7723, 0.5286],\n",
       "          [0.5985, 0.2464, 0.9890, 0.9410, 0.0336],\n",
       "          [0.5769, 0.9429, 0.7046, 0.8622, 0.8496],\n",
       "          [0.2527, 0.1093, 0.8799, 0.8268, 0.3146],\n",
       "          [0.8545, 0.2649, 0.1595, 0.0731, 0.8068]]],\n",
       "\n",
       "\n",
       "        [[[0.8836, 0.2200, 0.3727, 0.3172, 0.1490],\n",
       "          [0.2958, 0.3237, 0.4373, 0.1085, 0.0594],\n",
       "          [0.4614, 0.5124, 0.3648, 0.4952, 0.7492],\n",
       "          [0.2285, 0.9710, 0.7652, 0.3734, 0.9514],\n",
       "          [0.1786, 0.9691, 0.3321, 0.5972, 0.2977]],\n",
       "\n",
       "         [[0.8821, 0.4630, 0.6233, 0.5851, 0.1906],\n",
       "          [0.1751, 0.8617, 0.9453, 0.3574, 0.8914],\n",
       "          [0.0615, 0.5652, 0.7769, 0.9554, 0.1324],\n",
       "          [0.8907, 0.5693, 0.7974, 0.4085, 0.7908],\n",
       "          [0.5809, 0.9849, 0.5275, 0.3371, 0.7537]]]])"
      ]
     },
     "execution_count": 22,
     "metadata": {},
     "output_type": "execute_result"
    }
   ],
   "source": [
    "output = torch.rand((3,2,5,5))\n",
    "output"
   ]
  },
  {
   "cell_type": "code",
   "execution_count": 252,
   "id": "354db597-317b-4607-9b8e-166290bd2471",
   "metadata": {},
   "outputs": [],
   "source": []
  },
  {
   "cell_type": "code",
   "execution_count": 253,
   "id": "c2ffc5e4-6596-4a18-8ae8-ab54e11d678c",
   "metadata": {},
   "outputs": [
    {
     "data": {
      "text/plain": [
       "(tensor([[0.3778, 0.2593],\n",
       "         [0.6962, 0.0234]]),\n",
       " tensor([[0.0236, 0.6685],\n",
       "         [0.6098, 0.3538]]),\n",
       " tensor([[0.8924, 0.0555],\n",
       "         [0.8908, 0.9978]]))"
      ]
     },
     "execution_count": 253,
     "metadata": {},
     "output_type": "execute_result"
    }
   ],
   "source": [
    "tensor_triplets = get_output_triplets(output, triplet_indices)\n",
    "tensor_triplets"
   ]
  },
  {
   "cell_type": "code",
   "execution_count": 329,
   "id": "e8dd8f05-8966-4f39-8b5a-a55255404f48",
   "metadata": {
    "tags": []
   },
   "outputs": [],
   "source": [
    "def triplet_loss(tensor_triplets, margin=0.2):\n",
    "    \n",
    "    # unpack\n",
    "    tensor_anchors,tensor_negatives, tensor_positives = tensor_triplets\n",
    "    print(f'tensor_anchors:\\n{tensor_anchors}\\n')\n",
    "    print(f'tensor_negatives:\\n{tensor_negatives}\\n')\n",
    "    print(f'tensor_positives:\\n{tensor_positives}\\n')\n",
    "    \n",
    "    diff_anchor_positives = tensor_anchors - tensor_positives\n",
    "    norm_anchor_positives = torch.linalg.norm(diff_anchor_positives)\n",
    "    print(f'norm_anchor_positives:{norm_anchor_positives}')\n",
    "    \n",
    "    diff_anchor_negatives = tensor_anchors - tensor_negatives\n",
    "    norm_anchor_negatives = torch.linalg.norm(diff_anchor_negatives)\n",
    "    print(f'norm_anchor_negatives:{norm_anchor_negatives}')\n",
    "    \n",
    "    option1 = norm_anchor_positives - norm_anchor_negatives + margin\n",
    "    option2 = 0.0\n",
    "    \n",
    "    loss = max(option1, option2)\n",
    "    return float(loss)"
   ]
  },
  {
   "cell_type": "code",
   "execution_count": 347,
   "id": "c9a5cfdb-3f93-4d6c-b2cb-13c721d3d0b4",
   "metadata": {},
   "outputs": [
    {
     "name": "stdout",
     "output_type": "stream",
     "text": [
      "tensor_anchors:\n",
      "tensor([[0.3778, 0.2593],\n",
      "        [0.6962, 0.0234]])\n",
      "\n",
      "tensor_negatives:\n",
      "tensor([[0.0236, 0.6685],\n",
      "        [0.6098, 0.3538]])\n",
      "\n",
      "tensor_positives:\n",
      "tensor([[0.8924, 0.0555],\n",
      "        [0.8908, 0.9978]])\n",
      "\n",
      "norm_anchor_positives:1.137434959411621\n",
      "norm_anchor_negatives:0.6399896740913391\n",
      "loss:0.697445273399353\n"
     ]
    }
   ],
   "source": [
    "loss = triplet_loss(tensor_triplets)\n",
    "print(f'loss:{loss}')"
   ]
  },
  {
   "cell_type": "code",
   "execution_count": 345,
   "id": "063b7bd3-53a6-4333-bda5-e4c0cf2c8476",
   "metadata": {},
   "outputs": [],
   "source": [
    "# def triplet_loss2(tensor_triplets, margin=0.2):\n",
    " \n",
    "#     # unpack\n",
    "#     tensor_anchors,tensor_negatives, tensor_positives = tensor_triplets\n",
    "    \n",
    "#     diff_anchor_positives = torch.cdist(tensor_anchors,tensor_positives,p=2.0)\n",
    "#     print(f'diff_anchor_positives:\\n{diff_anchor_positives}\\n')\n",
    "    \n",
    "#     diff_anchor_negatives = torch.cdist(tensor_anchors,tensor_negatives,p=2.0)\n",
    "#     print(f'diff_anchor_negatives:\\n{diff_anchor_negatives}\\n')\n",
    "    \n",
    "#     option1 = diff_anchor_positives - diff_anchor_negatives + margin\n",
    "#     print(f'option1:\\n{option1}\\n')\n",
    "    \n",
    "#     option2 = 0.0\n",
    "    \n",
    "#     loss = max(option1, option2)\n",
    "#     return float(loss)"
   ]
  },
  {
   "cell_type": "code",
   "execution_count": 348,
   "id": "c72278cd-d06c-407d-b73a-28e88eca003d",
   "metadata": {},
   "outputs": [],
   "source": [
    "# loss_alt = triplet_loss2(tensor_triplets)\n",
    "# print(f'loss_alt:{loss_alt}')"
   ]
  },
  {
   "cell_type": "code",
   "execution_count": 341,
   "id": "edb2fc41-3281-4efa-b0a7-6b9cfc547e59",
   "metadata": {},
   "outputs": [
    {
     "name": "stdout",
     "output_type": "stream",
     "text": [
      "torch.Size([2, 5, 5])\n"
     ]
    },
    {
     "data": {
      "text/plain": [
       "tensor([[[0., 0., 1., 1., 1.],\n",
       "         [0., 0., 0., 1., 1.],\n",
       "         [0., 0., 0., 0., 1.],\n",
       "         [1., 0., 0., 0., 1.],\n",
       "         [1., 1., 0., 0., 1.]],\n",
       "\n",
       "        [[0., 0., 1., 1., 1.],\n",
       "         [0., 0., 0., 1., 1.],\n",
       "         [0., 0., 0., 0., 1.],\n",
       "         [1., 0., 0., 0., 1.],\n",
       "         [1., 1., 0., 0., 1.]]])"
      ]
     },
     "execution_count": 341,
     "metadata": {},
     "output_type": "execute_result"
    }
   ],
   "source": [
    "targets = torch.stack([target,target])\n",
    "print(targets.shape)\n",
    "targets"
   ]
  },
  {
   "cell_type": "code",
   "execution_count": 342,
   "id": "5f8d974d-5fcd-4084-8c76-50b0b7511f49",
   "metadata": {},
   "outputs": [],
   "source": [
    "def loss(output, targets, n=1, margin=0.5):\n",
    "    batch_loss = 0.0\n",
    "    \n",
    "    # for each output in the mini-batch, calculate triplet_loss\n",
    "    for i in range(len(output)):\n",
    "        target_i = targets[i]\n",
    "        output_i = output[i]\n",
    "#         print(output_i.shape)\n",
    "        if len(output_i.shape) < 3:\n",
    "            # output tensor must have at least 3 dimensions for function to work\n",
    "            output_i = torch.unsqueeze(output_i, 0)\n",
    "#         print(output_i.shape)\n",
    "        \n",
    "        \n",
    "        \n",
    "        # pixel indices\n",
    "        triplet_indices_i = get_triplet_indices(target_i, n)\n",
    "        print(triplet_indices_i)\n",
    "        \n",
    "        # output pixels\n",
    "        tensor_triplets_i = get_output_triplets(output_i, triplet_indices_i)\n",
    "#         print(tensor_triplets_i)\n",
    "        \n",
    "        # calculate loss\n",
    "        loss_i = triplet_loss(tensor_triplets_i, margin)\n",
    "        batch_loss += loss_i\n",
    "        \n",
    "    return batch_loss"
   ]
  },
  {
   "cell_type": "code",
   "execution_count": 302,
   "id": "633cd9ef-da98-4b42-8008-0077c5f8b25b",
   "metadata": {
    "tags": []
   },
   "outputs": [
    {
     "data": {
      "text/plain": [
       "0.7193681001663208"
      ]
     },
     "execution_count": 310,
     "metadata": {},
     "output_type": "execute_result"
    }
   ],
   "source": [
    "loss(output, targets)"
   ]
  },
  {
   "cell_type": "code",
   "execution_count": 26,
   "id": "85964ca9-477d-4ff1-a43b-fd75361a6bd5",
   "metadata": {},
   "outputs": [
    {
     "name": "stdout",
     "output_type": "stream",
     "text": [
      "tensor([[0., 0., 0.]])\n",
      "tensor([[0., 0., 2.]])\n"
     ]
    },
    {
     "data": {
      "text/plain": [
       "tensor([[2.]])"
      ]
     },
     "execution_count": 26,
     "metadata": {},
     "output_type": "execute_result"
    }
   ],
   "source": [
    "anchor = torch.tensor([[0.0,0,0]])\n",
    "positive = torch.tensor([[0.0,0,2]])\n",
    "print(anchor)\n",
    "print(positive)\n",
    "\n",
    "torch.cdist(anchor, positive, p=2.0)"
   ]
  },
  {
   "cell_type": "code",
   "execution_count": null,
   "id": "697c09b8-1ce2-41ca-b9f0-b06f645c0de4",
   "metadata": {},
   "outputs": [],
   "source": []
  }
 ],
 "metadata": {
  "kernelspec": {
   "display_name": "Python 3 (ipykernel)",
   "language": "python",
   "name": "python3"
  },
  "language_info": {
   "codemirror_mode": {
    "name": "ipython",
    "version": 3
   },
   "file_extension": ".py",
   "mimetype": "text/x-python",
   "name": "python",
   "nbconvert_exporter": "python",
   "pygments_lexer": "ipython3",
   "version": "3.8.11"
  }
 },
 "nbformat": 4,
 "nbformat_minor": 5
}
